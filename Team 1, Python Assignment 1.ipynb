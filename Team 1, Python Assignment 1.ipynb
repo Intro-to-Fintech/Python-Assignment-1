{
 "cells": [
  {
   "cell_type": "markdown",
   "metadata": {},
   "source": [
    "# Python Assignment 1"
   ]
  },
  {
   "cell_type": "markdown",
   "metadata": {},
   "source": [
    "## Compare the performance of different portfolio weighting approaches:\n",
    "\n",
    "#### Step 1. Please collect the market cap, Return on Equity (ROE), EPS (earning per share) basics, and P/E ratio for the following stocks: Apple (AAPL), Alphabet (GOOG), Amazon (AMZN), Tesla (TSLA), Berkshire Hathaway Inc. Class B (BRK.B), and UnitedHealth Group (UNH). You can find all the information on https://www.wsj.com/market-data/quotes/company-list/a-z/A. For example, for Amazon stock, you can find financial information here: https://www.wsj.com/market-data/quotes/AMZN/financials.\n",
    "\n",
    "#### Step 2. Please collect the past 5-year returns for the above stock using https://www.barchart.com/stocks. For example, for Amazon stock, https://www.barchart.com/stocks/quotes/AMZN/performance.\n",
    "\n",
    "#### Step 3. Please calculate the portfolio return (i.e., weighted average of individual stock returns) using a) market cap, b) Return on Equity (ROE), c) EPS (earning per share) basics, and d) P/E ratio as the weights, respectively.\n",
    "\n",
    "#### Step 4. Based on the above analysis, which portfolio weighting approach works the best? Can you think intuitively why?\n",
    "\n",
    "**Please make sure that your Python coding is reader- or user-friendly by using descriptions, comments, and markdown.**\n"
   ]
  },
  {
   "cell_type": "code",
   "execution_count": 9,
   "metadata": {
    "scrolled": true
   },
   "outputs": [
    {
     "name": "stdout",
     "output_type": "stream",
     "text": [
      "Collecting yfinance\n",
      "  Obtaining dependency information for yfinance from https://files.pythonhosted.org/packages/58/f7/a966b800b49cb5379e348bf0717df481051714a99ece15289718562f6952/yfinance-0.2.35-py2.py3-none-any.whl.metadata\n",
      "  Downloading yfinance-0.2.35-py2.py3-none-any.whl.metadata (11 kB)\n",
      "Collecting pandas>=1.3.0 (from yfinance)\n",
      "  Obtaining dependency information for pandas>=1.3.0 from https://files.pythonhosted.org/packages/f5/16/64109832ed426d5c3e9f6b791e64a2b78d785823657640afb8f416ed1dc9/pandas-2.1.4-cp312-cp312-macosx_10_9_x86_64.whl.metadata\n",
      "  Downloading pandas-2.1.4-cp312-cp312-macosx_10_9_x86_64.whl.metadata (18 kB)\n",
      "Collecting numpy>=1.16.5 (from yfinance)\n",
      "  Obtaining dependency information for numpy>=1.16.5 from https://files.pythonhosted.org/packages/6d/66/5ea5b8ef7cb3f72ecd6c905abc2331f999bf7e9de247f9db8cc9642f0eda/numpy-1.26.3-cp312-cp312-macosx_10_9_x86_64.whl.metadata\n",
      "  Downloading numpy-1.26.3-cp312-cp312-macosx_10_9_x86_64.whl.metadata (61 kB)\n",
      "\u001b[2K     \u001b[90m━━━━━━━━━━━━━━━━━━━━━━━━━━━━━━━━━━━━━━━━\u001b[0m \u001b[32m61.2/61.2 kB\u001b[0m \u001b[31m1.6 MB/s\u001b[0m eta \u001b[36m0:00:00\u001b[0m\n",
      "\u001b[?25hRequirement already satisfied: requests>=2.31 in /Library/Frameworks/Python.framework/Versions/3.12/lib/python3.12/site-packages (from yfinance) (2.31.0)\n",
      "Collecting multitasking>=0.0.7 (from yfinance)\n",
      "  Downloading multitasking-0.0.11-py3-none-any.whl (8.5 kB)\n",
      "Collecting lxml>=4.9.1 (from yfinance)\n",
      "  Obtaining dependency information for lxml>=4.9.1 from https://files.pythonhosted.org/packages/53/c0/bac6130e2edfe32211e6c99280dc0e1b1eabf0591948c1aa8a8e7c7172c6/lxml-5.1.0-cp312-cp312-macosx_10_9_x86_64.whl.metadata\n",
      "  Downloading lxml-5.1.0-cp312-cp312-macosx_10_9_x86_64.whl.metadata (3.5 kB)\n",
      "Collecting appdirs>=1.4.4 (from yfinance)\n",
      "  Downloading appdirs-1.4.4-py2.py3-none-any.whl (9.6 kB)\n",
      "Collecting pytz>=2022.5 (from yfinance)\n",
      "  Obtaining dependency information for pytz>=2022.5 from https://files.pythonhosted.org/packages/32/4d/aaf7eff5deb402fd9a24a1449a8119f00d74ae9c2efa79f8ef9994261fc2/pytz-2023.3.post1-py2.py3-none-any.whl.metadata\n",
      "  Downloading pytz-2023.3.post1-py2.py3-none-any.whl.metadata (22 kB)\n",
      "Collecting frozendict>=2.3.4 (from yfinance)\n",
      "  Downloading frozendict-2.4.0.tar.gz (314 kB)\n",
      "\u001b[2K     \u001b[90m━━━━━━━━━━━━━━━━━━━━━━━━━━━━━━━━━━━━━━━\u001b[0m \u001b[32m314.6/314.6 kB\u001b[0m \u001b[31m4.6 MB/s\u001b[0m eta \u001b[36m0:00:00\u001b[0ma \u001b[36m0:00:01\u001b[0m\n",
      "\u001b[?25h  Installing build dependencies ... \u001b[?25ldone\n",
      "\u001b[?25h  Getting requirements to build wheel ... \u001b[?25ldone\n",
      "\u001b[?25h  Preparing metadata (pyproject.toml) ... \u001b[?25ldone\n",
      "\u001b[?25hCollecting peewee>=3.16.2 (from yfinance)\n",
      "  Downloading peewee-3.17.0.tar.gz (2.9 MB)\n",
      "\u001b[2K     \u001b[90m━━━━━━━━━━━━━━━━━━━━━━━━━━━━━━━━━━━━━━━━\u001b[0m \u001b[32m2.9/2.9 MB\u001b[0m \u001b[31m10.3 MB/s\u001b[0m eta \u001b[36m0:00:00\u001b[0m00:01\u001b[0m00:01\u001b[0m\n",
      "\u001b[?25h  Installing build dependencies ... \u001b[?25ldone\n",
      "\u001b[?25h  Getting requirements to build wheel ... \u001b[?25ldone\n",
      "\u001b[?25h  Preparing metadata (pyproject.toml) ... \u001b[?25ldone\n",
      "\u001b[?25hRequirement already satisfied: beautifulsoup4>=4.11.1 in /Library/Frameworks/Python.framework/Versions/3.12/lib/python3.12/site-packages (from yfinance) (4.12.2)\n",
      "Collecting html5lib>=1.1 (from yfinance)\n",
      "  Downloading html5lib-1.1-py2.py3-none-any.whl (112 kB)\n",
      "\u001b[2K     \u001b[90m━━━━━━━━━━━━━━━━━━━━━━━━━━━━━━━━━━━━━━━\u001b[0m \u001b[32m112.2/112.2 kB\u001b[0m \u001b[31m2.5 MB/s\u001b[0m eta \u001b[36m0:00:00\u001b[0ma \u001b[36m0:00:01\u001b[0m\n",
      "\u001b[?25hRequirement already satisfied: soupsieve>1.2 in /Library/Frameworks/Python.framework/Versions/3.12/lib/python3.12/site-packages (from beautifulsoup4>=4.11.1->yfinance) (2.5)\n",
      "Requirement already satisfied: six>=1.9 in /Library/Frameworks/Python.framework/Versions/3.12/lib/python3.12/site-packages (from html5lib>=1.1->yfinance) (1.16.0)\n",
      "Requirement already satisfied: webencodings in /Library/Frameworks/Python.framework/Versions/3.12/lib/python3.12/site-packages (from html5lib>=1.1->yfinance) (0.5.1)\n",
      "Requirement already satisfied: python-dateutil>=2.8.2 in /Library/Frameworks/Python.framework/Versions/3.12/lib/python3.12/site-packages (from pandas>=1.3.0->yfinance) (2.8.2)\n",
      "Collecting tzdata>=2022.1 (from pandas>=1.3.0->yfinance)\n",
      "  Obtaining dependency information for tzdata>=2022.1 from https://files.pythonhosted.org/packages/a3/fb/52b62131e21b24ee297e4e95ed41eba29647dad0e0051a92bb66b43c70ff/tzdata-2023.4-py2.py3-none-any.whl.metadata\n",
      "  Downloading tzdata-2023.4-py2.py3-none-any.whl.metadata (1.4 kB)\n",
      "Requirement already satisfied: charset-normalizer<4,>=2 in /Library/Frameworks/Python.framework/Versions/3.12/lib/python3.12/site-packages (from requests>=2.31->yfinance) (3.3.2)\n",
      "Requirement already satisfied: idna<4,>=2.5 in /Library/Frameworks/Python.framework/Versions/3.12/lib/python3.12/site-packages (from requests>=2.31->yfinance) (3.6)\n",
      "Requirement already satisfied: urllib3<3,>=1.21.1 in /Library/Frameworks/Python.framework/Versions/3.12/lib/python3.12/site-packages (from requests>=2.31->yfinance) (2.1.0)\n",
      "Requirement already satisfied: certifi>=2017.4.17 in /Library/Frameworks/Python.framework/Versions/3.12/lib/python3.12/site-packages (from requests>=2.31->yfinance) (2023.11.17)\n",
      "Downloading yfinance-0.2.35-py2.py3-none-any.whl (72 kB)\n",
      "\u001b[2K   \u001b[90m━━━━━━━━━━━━━━━━━━━━━━━━━━━━━━━━━━━━━━━━\u001b[0m \u001b[32m72.2/72.2 kB\u001b[0m \u001b[31m2.6 MB/s\u001b[0m eta \u001b[36m0:00:00\u001b[0m\n",
      "\u001b[?25hDownloading lxml-5.1.0-cp312-cp312-macosx_10_9_x86_64.whl (4.8 MB)\n",
      "\u001b[2K   \u001b[90m━━━━━━━━━━━━━━━━━━━━━━━━━━━━━━━━━━━━━━━━\u001b[0m \u001b[32m4.8/4.8 MB\u001b[0m \u001b[31m13.3 MB/s\u001b[0m eta \u001b[36m0:00:00\u001b[0m00:01\u001b[0m00:01\u001b[0m\n",
      "\u001b[?25hDownloading numpy-1.26.3-cp312-cp312-macosx_10_9_x86_64.whl (20.3 MB)\n",
      "\u001b[2K   \u001b[90m━━━━━━━━━━━━━━━━━━━━━━━━━━━━━━━━━━━━━━━━\u001b[0m \u001b[32m20.3/20.3 MB\u001b[0m \u001b[31m14.9 MB/s\u001b[0m eta \u001b[36m0:00:00\u001b[0m00:01\u001b[0m00:01\u001b[0m\n",
      "\u001b[?25hDownloading pandas-2.1.4-cp312-cp312-macosx_10_9_x86_64.whl (11.4 MB)\n",
      "\u001b[2K   \u001b[90m━━━━━━━━━━━━━━━━━━━━━━━━━━━━━━━━━━━━━━━━\u001b[0m \u001b[32m11.4/11.4 MB\u001b[0m \u001b[31m16.3 MB/s\u001b[0m eta \u001b[36m0:00:00\u001b[0m00:01\u001b[0m00:01\u001b[0m\n",
      "\u001b[?25hDownloading pytz-2023.3.post1-py2.py3-none-any.whl (502 kB)\n",
      "\u001b[2K   \u001b[90m━━━━━━━━━━━━━━━━━━━━━━━━━━━━━━━━━━━━━━━━\u001b[0m \u001b[32m502.5/502.5 kB\u001b[0m \u001b[31m8.9 MB/s\u001b[0m eta \u001b[36m0:00:00\u001b[0m:00:01\u001b[0m\n",
      "\u001b[?25hDownloading tzdata-2023.4-py2.py3-none-any.whl (346 kB)\n",
      "\u001b[2K   \u001b[90m━━━━━━━━━━━━━━━━━━━━━━━━━━━━━━━━━━━━━━━━\u001b[0m \u001b[32m346.6/346.6 kB\u001b[0m \u001b[31m7.2 MB/s\u001b[0m eta \u001b[36m0:00:00\u001b[0m:00:01\u001b[0m\n",
      "\u001b[?25hBuilding wheels for collected packages: frozendict, peewee\n",
      "  Building wheel for frozendict (pyproject.toml) ... \u001b[?25ldone\n",
      "\u001b[?25h  Created wheel for frozendict: filename=frozendict-2.4.0-py3-none-any.whl size=15425 sha256=341fe0ee0b81e71c537a0b148154d986d030c6ca4ae24e29de6b872a2ee1abb3\n",
      "  Stored in directory: /Users/luke/Library/Caches/pip/wheels/f8/24/61/a7327cee6da6ddddd619cddf13acfb4ec63606c69bbfe31486\n",
      "  Building wheel for peewee (pyproject.toml) ... \u001b[?25ldone\n",
      "\u001b[?25h  Created wheel for peewee: filename=peewee-3.17.0-py3-none-any.whl size=135721 sha256=5df1d320055e213aca7e0657a70925e200990e4d4d973297058d3d84d8d25c2e\n",
      "  Stored in directory: /Users/luke/Library/Caches/pip/wheels/35/c2/ce/d5490cdd71c6d4a993c87a5e172ec23c5d9cd287b59b7f8098\n",
      "Successfully built frozendict peewee\n",
      "Installing collected packages: pytz, peewee, multitasking, appdirs, tzdata, numpy, lxml, html5lib, frozendict, pandas, yfinance\n",
      "Successfully installed appdirs-1.4.4 frozendict-2.4.0 html5lib-1.1 lxml-5.1.0 multitasking-0.0.11 numpy-1.26.3 pandas-2.1.4 peewee-3.17.0 pytz-2023.3.post1 tzdata-2023.4 yfinance-0.2.35\n",
      "\n",
      "\u001b[1m[\u001b[0m\u001b[34;49mnotice\u001b[0m\u001b[1;39;49m]\u001b[0m\u001b[39;49m A new release of pip is available: \u001b[0m\u001b[31;49m23.2.1\u001b[0m\u001b[39;49m -> \u001b[0m\u001b[32;49m23.3.2\u001b[0m\n",
      "\u001b[1m[\u001b[0m\u001b[34;49mnotice\u001b[0m\u001b[1;39;49m]\u001b[0m\u001b[39;49m To update, run: \u001b[0m\u001b[32;49mpip3 install --upgrade pip\u001b[0m\n",
      "Note: you may need to restart the kernel to use updated packages.\n"
     ]
    }
   ],
   "source": [
    "pip install yfinance\n"
   ]
  },
  {
   "cell_type": "code",
   "execution_count": 1,
   "metadata": {},
   "outputs": [
    {
     "data": {
      "text/plain": [
       "{'AAPL': {'Market Cap': 2874676346880,\n",
       "  'ROE': 1.7195,\n",
       "  'EPS': 6.14,\n",
       "  'P/E Ratio': 30.28013},\n",
       " 'GOOG': {'Market Cap': 1794778333184,\n",
       "  'ROE': 0.25334,\n",
       "  'EPS': 5.22,\n",
       "  'P/E Ratio': 27.632187},\n",
       " 'AMZN': {'Market Cap': 1597843046400,\n",
       "  'ROE': 0.12531,\n",
       "  'EPS': 1.92,\n",
       "  'P/E Ratio': 80.53125},\n",
       " 'TSLA': {'Market Cap': 695833788416,\n",
       "  'ROE': 0.22459999,\n",
       "  'EPS': 3.11,\n",
       "  'P/E Ratio': 70.38264},\n",
       " 'BRK-B': {'Market Cap': 791244374016,\n",
       "  'ROE': 0.15537,\n",
       "  'EPS': 35.09,\n",
       "  'P/E Ratio': 10.362496},\n",
       " 'UNH': {'Market Cap': 482357641216,\n",
       "  'ROE': 0.24985,\n",
       "  'EPS': 23.89,\n",
       "  'P/E Ratio': 21.829638}}"
      ]
     },
     "execution_count": 1,
     "metadata": {},
     "output_type": "execute_result"
    }
   ],
   "source": [
    "import yfinance as yf\n",
    "\n",
    "def fetch_stock_data(stock_symbols):\n",
    "    stock_data = {}\n",
    "    \n",
    "    for symbol in stock_symbols:\n",
    "        stock = yf.Ticker(symbol)\n",
    "        \n",
    "        # Fetching market cap\n",
    "        market_cap = stock.info.get('marketCap', 'N/A')\n",
    "        \n",
    "        # Fetching ROE\n",
    "        try:\n",
    "            roe = stock.info['returnOnEquity']\n",
    "        except KeyError:\n",
    "            roe = 'N/A'\n",
    "        \n",
    "        # Fetching EPS\n",
    "        try:\n",
    "            eps = stock.info['trailingEps']\n",
    "        except KeyError:\n",
    "            eps = 'N/A'\n",
    "        \n",
    "        # Fetching P/E ratio\n",
    "        try:\n",
    "            pe_ratio = stock.info['trailingPE']\n",
    "        except KeyError:\n",
    "            pe_ratio = 'N/A'\n",
    "       \n",
    "        # Format output of performance measures\n",
    "        stock_data[symbol] = {\n",
    "            'Market Cap': market_cap,\n",
    "            'ROE': roe,\n",
    "            'EPS': eps,\n",
    "            'P/E Ratio': pe_ratio\n",
    "        }\n",
    "    \n",
    "    return stock_data\n",
    "\n",
    "# List of stock symbols\n",
    "stock_symbols = ['AAPL', 'GOOG', 'AMZN', 'TSLA', 'BRK-B', 'UNH']\n",
    "\n",
    "# Fetching stock data\n",
    "stock_data = fetch_stock_data(stock_symbols)\n",
    "\n",
    "# Displaying the fetched data\n",
    "stock_data\n"
   ]
  },
  {
   "cell_type": "code",
   "execution_count": 2,
   "metadata": {},
   "outputs": [
    {
     "data": {
      "text/plain": [
       "{'AAPL': {'Returns (5 Years)': 397.12525487228083},\n",
       " 'GOOG': {'Returns (5 Years)': 164.68484873897285},\n",
       " 'AMZN': {'Returns (5 Years)': 82.63425831511692},\n",
       " 'TSLA': {'Returns (5 Years)': 845.365836299167},\n",
       " 'BRK-B': {'Returns (5 Years)': 82.92584633774476},\n",
       " 'UNH': {'Returns (5 Years)': 116.33461248220244}}"
      ]
     },
     "execution_count": 2,
     "metadata": {},
     "output_type": "execute_result"
    }
   ],
   "source": [
    "import yfinance as yf\n",
    "import datetime\n",
    "\n",
    "def fetch_stock_data(stock_symbols):\n",
    "    stock_data = {}\n",
    "    \n",
    "    # Calculate the date 5 years ago from today\n",
    "    end_date = datetime.datetime.now()\n",
    "    start_date = end_date - datetime.timedelta(days=5*365)\n",
    "    \n",
    "    for symbol in stock_symbols:\n",
    "        stock = yf.Ticker(symbol)\n",
    "        \n",
    "        # Fetching historical stock data for the past 5 years\n",
    "        historical_data = stock.history(start=start_date, end=end_date)\n",
    "        \n",
    "        # Check if there is data available\n",
    "        if not historical_data.empty:\n",
    "            # Calculate the percentage change in stock price over the past 5 years\n",
    "            returns_5_years = (historical_data['Close'].iloc[-1] / historical_data['Close'].iloc[0] - 1) * 100\n",
    "        else:\n",
    "            returns_5_years = 'N/A'\n",
    "        \n",
    "        stock_data[symbol] = {\n",
    "            'Returns (5 Years)': returns_5_years\n",
    "        }\n",
    "    \n",
    "    return stock_data\n",
    "\n",
    "# List of stock symbols\n",
    "stock_symbols = ['AAPL', 'GOOG', 'AMZN', 'TSLA', 'BRK-B', 'UNH']\n",
    "\n",
    "# Fetching stock data\n",
    "stock_data = fetch_stock_data(stock_symbols)\n",
    "\n",
    "# Displaying the fetched data\n",
    "stock_data\n"
   ]
  },
  {
   "cell_type": "code",
   "execution_count": 5,
   "metadata": {},
   "outputs": [
    {
     "data": {
      "text/plain": [
       "(313.0676413025566, 305.548150517084, 349.51920249340486, 305.548150517084)"
      ]
     },
     "execution_count": 5,
     "metadata": {},
     "output_type": "execute_result"
    }
   ],
   "source": [
    "# Portfolio weights\n",
    "weights_market_cap = {'AAPL': 0.2, 'GOOG': 0.1, 'AMZN': 0.15, 'TSLA': 0.2, 'BRK-B': 0.15, 'UNH': 0.2}\n",
    "weights_roe = {'AAPL': 0.15, 'GOOG': 0.2, 'AMZN': 0.1, 'TSLA': 0.2, 'BRK-B': 0.15, 'UNH': 0.2}\n",
    "weights_eps = {'AAPL': 0.2, 'GOOG': 0.1, 'AMZN': 0.15, 'TSLA': 0.25, 'BRK-B': 0.15, 'UNH': 0.15}\n",
    "weights_pe_ratio = {'AAPL': 0.15, 'GOOG': 0.2, 'AMZN': 0.1, 'TSLA': 0.2, 'BRK-B': 0.15, 'UNH': 0.2}\n",
    "\n",
    "# Calculate portfolio return for each set of weights\n",
    "def calculate_portfolio_return(weights, stock_data):\n",
    "    portfolio_return = sum(weights[symbol] * stock_data[symbol]['Returns (5 Years)'] for symbol in weights)\n",
    "    return portfolio_return\n",
    "\n",
    "# Calculate portfolio return using market cap weights\n",
    "portfolio_return_market_cap = calculate_portfolio_return(weights_market_cap, stock_data)\n",
    "\n",
    "# Calculate portfolio return using ROE weights\n",
    "portfolio_return_roe = calculate_portfolio_return(weights_roe, stock_data)\n",
    "\n",
    "# Calculate portfolio return using EPS weights\n",
    "portfolio_return_eps = calculate_portfolio_return(weights_eps, stock_data)\n",
    "\n",
    "# Calculate portfolio return using P/E ratio weights\n",
    "portfolio_return_pe_ratio = calculate_portfolio_return(weights_pe_ratio, stock_data)\n",
    "\n",
    "# Display the results\n",
    "portfolio_return_market_cap, portfolio_return_roe, portfolio_return_eps, portfolio_return_pe_ratio\n"
   ]
  },
  {
   "cell_type": "markdown",
   "metadata": {},
   "source": [
    "#### Step 4: Based on the above analysis, the EPS portfolio weighting approach works best because it focuses explicitly on earnings, a key driver of stock prices and the weighting is not influenced by other potentially skewing factors like the large market caps. Intuitively, the EPS approach ignores factors like company size (market cap) which can drastically affect a portfolio's return when given weight, and thus offers a more balanced value for return."
   ]
  }
 ],
 "metadata": {
  "kernelspec": {
   "display_name": "Python 3 (ipykernel)",
   "language": "python",
   "name": "python3"
  },
  "language_info": {
   "codemirror_mode": {
    "name": "ipython",
    "version": 3
   },
   "file_extension": ".py",
   "mimetype": "text/x-python",
   "name": "python",
   "nbconvert_exporter": "python",
   "pygments_lexer": "ipython3",
   "version": "3.12.1"
  }
 },
 "nbformat": 4,
 "nbformat_minor": 4
}
